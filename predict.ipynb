{
 "cells": [
  {
   "cell_type": "code",
   "execution_count": 64,
   "metadata": {},
   "outputs": [],
   "source": [
    "import pandas as pd\n",
    "import numpy as np\n",
    "\n",
    "from sklearn.linear_model import LogisticRegression\n",
    "from sklearn.model_selection import train_test_split\n",
    "from sklearn.metrics import ConfusionMatrixDisplay, confusion_matrix\n",
    "\n",
    "import matplotlib.pyplot as plt\n",
    "import matplotlib.animation as animation\n",
    "from matplotlib.animation import FuncAnimation\n",
    "\n",
    "#%matplotlib notebook"
   ]
  },
  {
   "cell_type": "code",
   "execution_count": 65,
   "metadata": {},
   "outputs": [
    {
     "data": {
      "text/html": [
       "<div>\n",
       "<style scoped>\n",
       "    .dataframe tbody tr th:only-of-type {\n",
       "        vertical-align: middle;\n",
       "    }\n",
       "\n",
       "    .dataframe tbody tr th {\n",
       "        vertical-align: top;\n",
       "    }\n",
       "\n",
       "    .dataframe thead th {\n",
       "        text-align: right;\n",
       "    }\n",
       "</style>\n",
       "<table border=\"1\" class=\"dataframe\">\n",
       "  <thead>\n",
       "    <tr style=\"text-align: right;\">\n",
       "      <th></th>\n",
       "      <th>f</th>\n",
       "      <th>ix</th>\n",
       "      <th>t</th>\n",
       "      <th>x</th>\n",
       "      <th>y</th>\n",
       "      <th>z</th>\n",
       "      <th>dx</th>\n",
       "      <th>dy</th>\n",
       "      <th>dz</th>\n",
       "      <th>scorer</th>\n",
       "      <th>pt</th>\n",
       "      <th>month</th>\n",
       "      <th>id</th>\n",
       "    </tr>\n",
       "  </thead>\n",
       "  <tbody>\n",
       "    <tr>\n",
       "      <th>0</th>\n",
       "      <td>0</td>\n",
       "      <td>0</td>\n",
       "      <td>12.733936</td>\n",
       "      <td>0.00</td>\n",
       "      <td>0.00</td>\n",
       "      <td>92.87</td>\n",
       "      <td>0.00</td>\n",
       "      <td>0.00</td>\n",
       "      <td>0.00</td>\n",
       "      <td>1.0</td>\n",
       "      <td>0</td>\n",
       "      <td>2</td>\n",
       "      <td>02BC803B4481747BDB6B6FA3452F2796</td>\n",
       "    </tr>\n",
       "    <tr>\n",
       "      <th>1</th>\n",
       "      <td>127</td>\n",
       "      <td>0</td>\n",
       "      <td>18.879103</td>\n",
       "      <td>22.88</td>\n",
       "      <td>-38.32</td>\n",
       "      <td>94.99</td>\n",
       "      <td>1512.35</td>\n",
       "      <td>-2715.01</td>\n",
       "      <td>220.28</td>\n",
       "      <td>1.0</td>\n",
       "      <td>0</td>\n",
       "      <td>2</td>\n",
       "      <td>02BC803B4481747BDB6B6FA3452F2796</td>\n",
       "    </tr>\n",
       "    <tr>\n",
       "      <th>2</th>\n",
       "      <td>128</td>\n",
       "      <td>0</td>\n",
       "      <td>18.927488</td>\n",
       "      <td>98.43</td>\n",
       "      <td>-173.95</td>\n",
       "      <td>105.04</td>\n",
       "      <td>1510.01</td>\n",
       "      <td>-2710.87</td>\n",
       "      <td>187.44</td>\n",
       "      <td>1.0</td>\n",
       "      <td>0</td>\n",
       "      <td>2</td>\n",
       "      <td>02BC803B4481747BDB6B6FA3452F2796</td>\n",
       "    </tr>\n",
       "    <tr>\n",
       "      <th>3</th>\n",
       "      <td>129</td>\n",
       "      <td>0</td>\n",
       "      <td>18.975874</td>\n",
       "      <td>148.73</td>\n",
       "      <td>-264.25</td>\n",
       "      <td>110.84</td>\n",
       "      <td>1508.45</td>\n",
       "      <td>-2708.11</td>\n",
       "      <td>165.57</td>\n",
       "      <td>1.0</td>\n",
       "      <td>0</td>\n",
       "      <td>2</td>\n",
       "      <td>02BC803B4481747BDB6B6FA3452F2796</td>\n",
       "    </tr>\n",
       "    <tr>\n",
       "      <th>4</th>\n",
       "      <td>130</td>\n",
       "      <td>0</td>\n",
       "      <td>19.024260</td>\n",
       "      <td>249.17</td>\n",
       "      <td>-444.58</td>\n",
       "      <td>120.24</td>\n",
       "      <td>1505.33</td>\n",
       "      <td>-2702.59</td>\n",
       "      <td>121.91</td>\n",
       "      <td>1.0</td>\n",
       "      <td>0</td>\n",
       "      <td>2</td>\n",
       "      <td>02BC803B4481747BDB6B6FA3452F2796</td>\n",
       "    </tr>\n",
       "  </tbody>\n",
       "</table>\n",
       "</div>"
      ],
      "text/plain": [
       "     f  ix          t       x       y       z       dx       dy      dz  \\\n",
       "0    0   0  12.733936    0.00    0.00   92.87     0.00     0.00    0.00   \n",
       "1  127   0  18.879103   22.88  -38.32   94.99  1512.35 -2715.01  220.28   \n",
       "2  128   0  18.927488   98.43 -173.95  105.04  1510.01 -2710.87  187.44   \n",
       "3  129   0  18.975874  148.73 -264.25  110.84  1508.45 -2708.11  165.57   \n",
       "4  130   0  19.024260  249.17 -444.58  120.24  1505.33 -2702.59  121.91   \n",
       "\n",
       "   scorer  pt  month                                id  \n",
       "0     1.0   0      2  02BC803B4481747BDB6B6FA3452F2796  \n",
       "1     1.0   0      2  02BC803B4481747BDB6B6FA3452F2796  \n",
       "2     1.0   0      2  02BC803B4481747BDB6B6FA3452F2796  \n",
       "3     1.0   0      2  02BC803B4481747BDB6B6FA3452F2796  \n",
       "4     1.0   0      2  02BC803B4481747BDB6B6FA3452F2796  "
      ]
     },
     "execution_count": 65,
     "metadata": {},
     "output_type": "execute_result"
    }
   ],
   "source": [
    "data = pd.read_json(\"parsed/my_replays.json\")\n",
    "#data.set_index(['id','f'],inplace=True)\n",
    "data.head()"
   ]
  },
  {
   "cell_type": "code",
   "execution_count": 66,
   "metadata": {},
   "outputs": [
    {
     "data": {
      "text/html": [
       "<div>\n",
       "<style scoped>\n",
       "    .dataframe tbody tr th:only-of-type {\n",
       "        vertical-align: middle;\n",
       "    }\n",
       "\n",
       "    .dataframe tbody tr th {\n",
       "        vertical-align: top;\n",
       "    }\n",
       "\n",
       "    .dataframe thead th {\n",
       "        text-align: right;\n",
       "    }\n",
       "</style>\n",
       "<table border=\"1\" class=\"dataframe\">\n",
       "  <thead>\n",
       "    <tr style=\"text-align: right;\">\n",
       "      <th></th>\n",
       "      <th>f</th>\n",
       "      <th>ix</th>\n",
       "      <th>t</th>\n",
       "      <th>x</th>\n",
       "      <th>y</th>\n",
       "      <th>z</th>\n",
       "      <th>dx</th>\n",
       "      <th>dy</th>\n",
       "      <th>dz</th>\n",
       "      <th>scorer</th>\n",
       "      <th>pt</th>\n",
       "      <th>month</th>\n",
       "    </tr>\n",
       "  </thead>\n",
       "  <tbody>\n",
       "    <tr>\n",
       "      <th>count</th>\n",
       "      <td>334678.000000</td>\n",
       "      <td>334678.000000</td>\n",
       "      <td>334678.000000</td>\n",
       "      <td>334678.000000</td>\n",
       "      <td>334678.000000</td>\n",
       "      <td>334678.000000</td>\n",
       "      <td>334678.000000</td>\n",
       "      <td>334678.000000</td>\n",
       "      <td>334678.000000</td>\n",
       "      <td>334678.000000</td>\n",
       "      <td>334678.000000</td>\n",
       "      <td>334678.000000</td>\n",
       "    </tr>\n",
       "    <tr>\n",
       "      <th>mean</th>\n",
       "      <td>5541.596848</td>\n",
       "      <td>93.861679</td>\n",
       "      <td>244.040719</td>\n",
       "      <td>89.272086</td>\n",
       "      <td>-96.934779</td>\n",
       "      <td>418.518451</td>\n",
       "      <td>0.344782</td>\n",
       "      <td>-15.852722</td>\n",
       "      <td>4.396626</td>\n",
       "      <td>0.554781</td>\n",
       "      <td>4.125506</td>\n",
       "      <td>5.037316</td>\n",
       "    </tr>\n",
       "    <tr>\n",
       "      <th>std</th>\n",
       "      <td>3729.014576</td>\n",
       "      <td>65.993175</td>\n",
       "      <td>145.720900</td>\n",
       "      <td>2416.870786</td>\n",
       "      <td>2999.537926</td>\n",
       "      <td>420.582911</td>\n",
       "      <td>905.348108</td>\n",
       "      <td>1052.947806</td>\n",
       "      <td>480.920511</td>\n",
       "      <td>0.476737</td>\n",
       "      <td>3.263182</td>\n",
       "      <td>2.593399</td>\n",
       "    </tr>\n",
       "    <tr>\n",
       "      <th>min</th>\n",
       "      <td>0.000000</td>\n",
       "      <td>0.000000</td>\n",
       "      <td>0.400000</td>\n",
       "      <td>-5146.340000</td>\n",
       "      <td>-5994.700000</td>\n",
       "      <td>0.090000</td>\n",
       "      <td>-5060.700000</td>\n",
       "      <td>-4698.220000</td>\n",
       "      <td>-2357.310000</td>\n",
       "      <td>0.000000</td>\n",
       "      <td>0.000000</td>\n",
       "      <td>2.000000</td>\n",
       "    </tr>\n",
       "    <tr>\n",
       "      <th>25%</th>\n",
       "      <td>2614.000000</td>\n",
       "      <td>47.000000</td>\n",
       "      <td>123.687223</td>\n",
       "      <td>-1966.907500</td>\n",
       "      <td>-2721.067500</td>\n",
       "      <td>110.870000</td>\n",
       "      <td>-491.647500</td>\n",
       "      <td>-607.250000</td>\n",
       "      <td>-219.170000</td>\n",
       "      <td>0.000000</td>\n",
       "      <td>2.000000</td>\n",
       "      <td>3.000000</td>\n",
       "    </tr>\n",
       "    <tr>\n",
       "      <th>50%</th>\n",
       "      <td>5096.000000</td>\n",
       "      <td>92.000000</td>\n",
       "      <td>232.685365</td>\n",
       "      <td>7.360000</td>\n",
       "      <td>-10.120000</td>\n",
       "      <td>267.270000</td>\n",
       "      <td>0.000000</td>\n",
       "      <td>0.000000</td>\n",
       "      <td>0.000000</td>\n",
       "      <td>1.000000</td>\n",
       "      <td>4.000000</td>\n",
       "      <td>5.000000</td>\n",
       "    </tr>\n",
       "    <tr>\n",
       "      <th>75%</th>\n",
       "      <td>7655.000000</td>\n",
       "      <td>134.000000</td>\n",
       "      <td>347.379710</td>\n",
       "      <td>2230.845000</td>\n",
       "      <td>2396.987500</td>\n",
       "      <td>598.130000</td>\n",
       "      <td>499.730000</td>\n",
       "      <td>585.665000</td>\n",
       "      <td>214.487500</td>\n",
       "      <td>1.000000</td>\n",
       "      <td>6.000000</td>\n",
       "      <td>6.000000</td>\n",
       "    </tr>\n",
       "    <tr>\n",
       "      <th>max</th>\n",
       "      <td>20610.000000</td>\n",
       "      <td>325.000000</td>\n",
       "      <td>728.406740</td>\n",
       "      <td>5146.730000</td>\n",
       "      <td>5990.030000</td>\n",
       "      <td>2000.810000</td>\n",
       "      <td>5893.910000</td>\n",
       "      <td>5163.750000</td>\n",
       "      <td>6785.030000</td>\n",
       "      <td>1.000000</td>\n",
       "      <td>17.000000</td>\n",
       "      <td>10.000000</td>\n",
       "    </tr>\n",
       "  </tbody>\n",
       "</table>\n",
       "</div>"
      ],
      "text/plain": [
       "                   f             ix              t              x  \\\n",
       "count  334678.000000  334678.000000  334678.000000  334678.000000   \n",
       "mean     5541.596848      93.861679     244.040719      89.272086   \n",
       "std      3729.014576      65.993175     145.720900    2416.870786   \n",
       "min         0.000000       0.000000       0.400000   -5146.340000   \n",
       "25%      2614.000000      47.000000     123.687223   -1966.907500   \n",
       "50%      5096.000000      92.000000     232.685365       7.360000   \n",
       "75%      7655.000000     134.000000     347.379710    2230.845000   \n",
       "max     20610.000000     325.000000     728.406740    5146.730000   \n",
       "\n",
       "                   y              z             dx             dy  \\\n",
       "count  334678.000000  334678.000000  334678.000000  334678.000000   \n",
       "mean      -96.934779     418.518451       0.344782     -15.852722   \n",
       "std      2999.537926     420.582911     905.348108    1052.947806   \n",
       "min     -5994.700000       0.090000   -5060.700000   -4698.220000   \n",
       "25%     -2721.067500     110.870000    -491.647500    -607.250000   \n",
       "50%       -10.120000     267.270000       0.000000       0.000000   \n",
       "75%      2396.987500     598.130000     499.730000     585.665000   \n",
       "max      5990.030000    2000.810000    5893.910000    5163.750000   \n",
       "\n",
       "                  dz         scorer             pt          month  \n",
       "count  334678.000000  334678.000000  334678.000000  334678.000000  \n",
       "mean        4.396626       0.554781       4.125506       5.037316  \n",
       "std       480.920511       0.476737       3.263182       2.593399  \n",
       "min     -2357.310000       0.000000       0.000000       2.000000  \n",
       "25%      -219.170000       0.000000       2.000000       3.000000  \n",
       "50%         0.000000       1.000000       4.000000       5.000000  \n",
       "75%       214.487500       1.000000       6.000000       6.000000  \n",
       "max      6785.030000       1.000000      17.000000      10.000000  "
      ]
     },
     "execution_count": 66,
     "metadata": {},
     "output_type": "execute_result"
    }
   ],
   "source": [
    "data.describe()"
   ]
  },
  {
   "cell_type": "code",
   "execution_count": 142,
   "metadata": {},
   "outputs": [
    {
     "name": "stdout",
     "output_type": "stream",
     "text": [
      "Unique plays: 407\n"
     ]
    }
   ],
   "source": [
    "print(f\"Unique plays: {data.groupby(['pt','id']).size().size}\")"
   ]
  },
  {
   "cell_type": "code",
   "execution_count": 67,
   "metadata": {},
   "outputs": [
    {
     "data": {
      "text/plain": [
       "<matplotlib.axes._subplots.AxesSubplot at 0x188999221c8>"
      ]
     },
     "execution_count": 67,
     "metadata": {},
     "output_type": "execute_result"
    },
    {
     "data": {
      "image/png": "[encoded data removed]",
      "text/plain": [
       "<Figure size 432x288 with 1 Axes>"
      ]
     },
     "metadata": {
      "needs_background": "light"
     },
     "output_type": "display_data"
    }
   ],
   "source": [
    "(data.scorer.value_counts() / len(data)).plot(kind='bar')\n",
    "plt.show()"
   ]
  },
  {
   "cell_type": "markdown",
   "metadata": {},
   "source": [
    "This actually shows the number of frames captured in points with each scorer,\n",
    "but in fact the more interesting question is the number of plays with each\n",
    "label. We can show the distribution of this too."
   ]
  },
  {
   "cell_type": "code",
   "execution_count": 147,
   "metadata": {},
   "outputs": [
    {
     "data": {
      "image/png": "[encoded data removed]",
      "text/plain": [
       "<Figure size 432x288 with 1 Axes>"
      ]
     },
     "metadata": {
      "needs_background": "light"
     },
     "output_type": "display_data"
    }
   ],
   "source": [
    "scorers = data.groupby(['id','pt']).agg('mean')['scorer']\n",
    "(scorers.value_counts() / len(scorers)).plot(kind='bar')\n",
    "plt.show()"
   ]
  },
  {
   "cell_type": "code",
   "execution_count": 148,
   "metadata": {},
   "outputs": [],
   "source": [
    "id = data.id.unique()[8]\n",
    "data.loc[data.id==id, \"scorer\"].value_counts()\n",
    "\n",
    "onegame = data.loc[data.id==id]\n",
    "onepoint = onegame.loc[data.pt==3]\n"
   ]
  },
  {
   "cell_type": "markdown",
   "metadata": {},
   "source": [
    "Here's a fun way to examine this data. We can extract one point and animate the ball as it moves around the field."
   ]
  },
  {
   "cell_type": "code",
   "execution_count": 70,
   "metadata": {
    "scrolled": false
   },
   "outputs": [
    {
     "ename": "ModuleNotFoundError",
     "evalue": "No module named 'ipympl'",
     "output_type": "error",
     "traceback": [
      "\u001b[1;31m---------------------------------------------------------------------------\u001b[0m",
      "\u001b[1;31mModuleNotFoundError\u001b[0m                       Traceback (most recent call last)",
      "\u001b[1;32m<ipython-input-70-d77384ab2634>\u001b[0m in \u001b[0;36m<module>\u001b[1;34m\u001b[0m\n\u001b[0;32m      9\u001b[0m \u001b[1;33m\u001b[0m\u001b[0m\n\u001b[0;32m     10\u001b[0m \u001b[1;31m# ===============\u001b[0m\u001b[1;33m\u001b[0m\u001b[1;33m\u001b[0m\u001b[1;33m\u001b[0m\u001b[0m\n\u001b[1;32m---> 11\u001b[1;33m \u001b[0mget_ipython\u001b[0m\u001b[1;33m(\u001b[0m\u001b[1;33m)\u001b[0m\u001b[1;33m.\u001b[0m\u001b[0mrun_line_magic\u001b[0m\u001b[1;33m(\u001b[0m\u001b[1;34m'matplotlib'\u001b[0m\u001b[1;33m,\u001b[0m \u001b[1;34m'widget'\u001b[0m\u001b[1;33m)\u001b[0m\u001b[1;33m\u001b[0m\u001b[1;33m\u001b[0m\u001b[0m\n\u001b[0m\u001b[0;32m     12\u001b[0m \u001b[1;33m\u001b[0m\u001b[0m\n\u001b[0;32m     13\u001b[0m \u001b[0mln\u001b[0m\u001b[1;33m,\u001b[0m \u001b[1;33m=\u001b[0m \u001b[0mplt\u001b[0m\u001b[1;33m.\u001b[0m\u001b[0mplot\u001b[0m\u001b[1;33m(\u001b[0m\u001b[1;33m[\u001b[0m\u001b[1;33m]\u001b[0m\u001b[1;33m,\u001b[0m \u001b[1;33m[\u001b[0m\u001b[1;33m]\u001b[0m\u001b[1;33m,\u001b[0m \u001b[1;34m'o'\u001b[0m\u001b[1;33m,\u001b[0m \u001b[0mc\u001b[0m\u001b[1;33m=\u001b[0m\u001b[0mcolor\u001b[0m\u001b[1;33m,\u001b[0m \u001b[0malpha\u001b[0m\u001b[1;33m=\u001b[0m\u001b[1;36m0.8\u001b[0m\u001b[1;33m)\u001b[0m\u001b[1;33m\u001b[0m\u001b[1;33m\u001b[0m\u001b[0m\n",
      "\u001b[1;32m~\\AppData\\Roaming\\Python\\Python37\\site-packages\\IPython\\core\\interactiveshell.py\u001b[0m in \u001b[0;36mrun_line_magic\u001b[1;34m(self, magic_name, line, _stack_depth)\u001b[0m\n\u001b[0;32m   2305\u001b[0m                 \u001b[0mkwargs\u001b[0m\u001b[1;33m[\u001b[0m\u001b[1;34m'local_ns'\u001b[0m\u001b[1;33m]\u001b[0m \u001b[1;33m=\u001b[0m \u001b[0msys\u001b[0m\u001b[1;33m.\u001b[0m\u001b[0m_getframe\u001b[0m\u001b[1;33m(\u001b[0m\u001b[0mstack_depth\u001b[0m\u001b[1;33m)\u001b[0m\u001b[1;33m.\u001b[0m\u001b[0mf_locals\u001b[0m\u001b[1;33m\u001b[0m\u001b[1;33m\u001b[0m\u001b[0m\n\u001b[0;32m   2306\u001b[0m             \u001b[1;32mwith\u001b[0m \u001b[0mself\u001b[0m\u001b[1;33m.\u001b[0m\u001b[0mbuiltin_trap\u001b[0m\u001b[1;33m:\u001b[0m\u001b[1;33m\u001b[0m\u001b[1;33m\u001b[0m\u001b[0m\n\u001b[1;32m-> 2307\u001b[1;33m                 \u001b[0mresult\u001b[0m \u001b[1;33m=\u001b[0m \u001b[0mfn\u001b[0m\u001b[1;33m(\u001b[0m\u001b[1;33m*\u001b[0m\u001b[0margs\u001b[0m\u001b[1;33m,\u001b[0m \u001b[1;33m**\u001b[0m\u001b[0mkwargs\u001b[0m\u001b[1;33m)\u001b[0m\u001b[1;33m\u001b[0m\u001b[1;33m\u001b[0m\u001b[0m\n\u001b[0m\u001b[0;32m   2308\u001b[0m             \u001b[1;32mreturn\u001b[0m \u001b[0mresult\u001b[0m\u001b[1;33m\u001b[0m\u001b[1;33m\u001b[0m\u001b[0m\n\u001b[0;32m   2309\u001b[0m \u001b[1;33m\u001b[0m\u001b[0m\n",
      "\u001b[1;32m<C:\\Users\\Sam\\AppData\\Roaming\\Python\\Python37\\site-packages\\decorator.py:decorator-gen-109>\u001b[0m in \u001b[0;36mmatplotlib\u001b[1;34m(self, line)\u001b[0m\n",
      "\u001b[1;32m~\\AppData\\Roaming\\Python\\Python37\\site-packages\\IPython\\core\\magic.py\u001b[0m in \u001b[0;36m<lambda>\u001b[1;34m(f, *a, **k)\u001b[0m\n\u001b[0;32m    185\u001b[0m     \u001b[1;31m# but it's overkill for just that one bit of state.\u001b[0m\u001b[1;33m\u001b[0m\u001b[1;33m\u001b[0m\u001b[1;33m\u001b[0m\u001b[0m\n\u001b[0;32m    186\u001b[0m     \u001b[1;32mdef\u001b[0m \u001b[0mmagic_deco\u001b[0m\u001b[1;33m(\u001b[0m\u001b[0marg\u001b[0m\u001b[1;33m)\u001b[0m\u001b[1;33m:\u001b[0m\u001b[1;33m\u001b[0m\u001b[1;33m\u001b[0m\u001b[0m\n\u001b[1;32m--> 187\u001b[1;33m         \u001b[0mcall\u001b[0m \u001b[1;33m=\u001b[0m \u001b[1;32mlambda\u001b[0m \u001b[0mf\u001b[0m\u001b[1;33m,\u001b[0m \u001b[1;33m*\u001b[0m\u001b[0ma\u001b[0m\u001b[1;33m,\u001b[0m \u001b[1;33m**\u001b[0m\u001b[0mk\u001b[0m\u001b[1;33m:\u001b[0m \u001b[0mf\u001b[0m\u001b[1;33m(\u001b[0m\u001b[1;33m*\u001b[0m\u001b[0ma\u001b[0m\u001b[1;33m,\u001b[0m \u001b[1;33m**\u001b[0m\u001b[0mk\u001b[0m\u001b[1;33m)\u001b[0m\u001b[1;33m\u001b[0m\u001b[1;33m\u001b[0m\u001b[0m\n\u001b[0m\u001b[0;32m    188\u001b[0m \u001b[1;33m\u001b[0m\u001b[0m\n\u001b[0;32m    189\u001b[0m         \u001b[1;32mif\u001b[0m \u001b[0mcallable\u001b[0m\u001b[1;33m(\u001b[0m\u001b[0marg\u001b[0m\u001b[1;33m)\u001b[0m\u001b[1;33m:\u001b[0m\u001b[1;33m\u001b[0m\u001b[1;33m\u001b[0m\u001b[0m\n",
      "\u001b[1;32m~\\AppData\\Roaming\\Python\\Python37\\site-packages\\IPython\\core\\magics\\pylab.py\u001b[0m in \u001b[0;36mmatplotlib\u001b[1;34m(self, line)\u001b[0m\n\u001b[0;32m     97\u001b[0m             \u001b[0mprint\u001b[0m\u001b[1;33m(\u001b[0m\u001b[1;34m\"Available matplotlib backends: %s\"\u001b[0m \u001b[1;33m%\u001b[0m \u001b[0mbackends_list\u001b[0m\u001b[1;33m)\u001b[0m\u001b[1;33m\u001b[0m\u001b[1;33m\u001b[0m\u001b[0m\n\u001b[0;32m     98\u001b[0m         \u001b[1;32melse\u001b[0m\u001b[1;33m:\u001b[0m\u001b[1;33m\u001b[0m\u001b[1;33m\u001b[0m\u001b[0m\n\u001b[1;32m---> 99\u001b[1;33m             \u001b[0mgui\u001b[0m\u001b[1;33m,\u001b[0m \u001b[0mbackend\u001b[0m \u001b[1;33m=\u001b[0m \u001b[0mself\u001b[0m\u001b[1;33m.\u001b[0m\u001b[0mshell\u001b[0m\u001b[1;33m.\u001b[0m\u001b[0menable_matplotlib\u001b[0m\u001b[1;33m(\u001b[0m\u001b[0margs\u001b[0m\u001b[1;33m.\u001b[0m\u001b[0mgui\u001b[0m\u001b[1;33m.\u001b[0m\u001b[0mlower\u001b[0m\u001b[1;33m(\u001b[0m\u001b[1;33m)\u001b[0m \u001b[1;32mif\u001b[0m \u001b[0misinstance\u001b[0m\u001b[1;33m(\u001b[0m\u001b[0margs\u001b[0m\u001b[1;33m.\u001b[0m\u001b[0mgui\u001b[0m\u001b[1;33m,\u001b[0m \u001b[0mstr\u001b[0m\u001b[1;33m)\u001b[0m \u001b[1;32melse\u001b[0m \u001b[0margs\u001b[0m\u001b[1;33m.\u001b[0m\u001b[0mgui\u001b[0m\u001b[1;33m)\u001b[0m\u001b[1;33m\u001b[0m\u001b[1;33m\u001b[0m\u001b[0m\n\u001b[0m\u001b[0;32m    100\u001b[0m             \u001b[0mself\u001b[0m\u001b[1;33m.\u001b[0m\u001b[0m_show_matplotlib_backend\u001b[0m\u001b[1;33m(\u001b[0m\u001b[0margs\u001b[0m\u001b[1;33m.\u001b[0m\u001b[0mgui\u001b[0m\u001b[1;33m,\u001b[0m \u001b[0mbackend\u001b[0m\u001b[1;33m)\u001b[0m\u001b[1;33m\u001b[0m\u001b[1;33m\u001b[0m\u001b[0m\n\u001b[0;32m    101\u001b[0m \u001b[1;33m\u001b[0m\u001b[0m\n",
      "\u001b[1;32m~\\AppData\\Roaming\\Python\\Python37\\site-packages\\IPython\\core\\interactiveshell.py\u001b[0m in \u001b[0;36menable_matplotlib\u001b[1;34m(self, gui)\u001b[0m\n\u001b[0;32m   3405\u001b[0m                 \u001b[0mgui\u001b[0m\u001b[1;33m,\u001b[0m \u001b[0mbackend\u001b[0m \u001b[1;33m=\u001b[0m \u001b[0mpt\u001b[0m\u001b[1;33m.\u001b[0m\u001b[0mfind_gui_and_backend\u001b[0m\u001b[1;33m(\u001b[0m\u001b[0mself\u001b[0m\u001b[1;33m.\u001b[0m\u001b[0mpylab_gui_select\u001b[0m\u001b[1;33m)\u001b[0m\u001b[1;33m\u001b[0m\u001b[1;33m\u001b[0m\u001b[0m\n\u001b[0;32m   3406\u001b[0m \u001b[1;33m\u001b[0m\u001b[0m\n\u001b[1;32m-> 3407\u001b[1;33m         \u001b[0mpt\u001b[0m\u001b[1;33m.\u001b[0m\u001b[0mactivate_matplotlib\u001b[0m\u001b[1;33m(\u001b[0m\u001b[0mbackend\u001b[0m\u001b[1;33m)\u001b[0m\u001b[1;33m\u001b[0m\u001b[1;33m\u001b[0m\u001b[0m\n\u001b[0m\u001b[0;32m   3408\u001b[0m         \u001b[0mpt\u001b[0m\u001b[1;33m.\u001b[0m\u001b[0mconfigure_inline_support\u001b[0m\u001b[1;33m(\u001b[0m\u001b[0mself\u001b[0m\u001b[1;33m,\u001b[0m \u001b[0mbackend\u001b[0m\u001b[1;33m)\u001b[0m\u001b[1;33m\u001b[0m\u001b[1;33m\u001b[0m\u001b[0m\n\u001b[0;32m   3409\u001b[0m \u001b[1;33m\u001b[0m\u001b[0m\n",
      "\u001b[1;32m~\\AppData\\Roaming\\Python\\Python37\\site-packages\\IPython\\core\\pylabtools.py\u001b[0m in \u001b[0;36mactivate_matplotlib\u001b[1;34m(backend)\u001b[0m\n\u001b[0;32m    316\u001b[0m     \u001b[1;32mfrom\u001b[0m \u001b[0mmatplotlib\u001b[0m \u001b[1;32mimport\u001b[0m \u001b[0mpyplot\u001b[0m \u001b[1;32mas\u001b[0m \u001b[0mplt\u001b[0m\u001b[1;33m\u001b[0m\u001b[1;33m\u001b[0m\u001b[0m\n\u001b[0;32m    317\u001b[0m \u001b[1;33m\u001b[0m\u001b[0m\n\u001b[1;32m--> 318\u001b[1;33m     \u001b[0mplt\u001b[0m\u001b[1;33m.\u001b[0m\u001b[0mswitch_backend\u001b[0m\u001b[1;33m(\u001b[0m\u001b[0mbackend\u001b[0m\u001b[1;33m)\u001b[0m\u001b[1;33m\u001b[0m\u001b[1;33m\u001b[0m\u001b[0m\n\u001b[0m\u001b[0;32m    319\u001b[0m \u001b[1;33m\u001b[0m\u001b[0m\n\u001b[0;32m    320\u001b[0m     \u001b[0mplt\u001b[0m\u001b[1;33m.\u001b[0m\u001b[0mshow\u001b[0m\u001b[1;33m.\u001b[0m\u001b[0m_needmain\u001b[0m \u001b[1;33m=\u001b[0m \u001b[1;32mFalse\u001b[0m\u001b[1;33m\u001b[0m\u001b[1;33m\u001b[0m\u001b[0m\n",
      "\u001b[1;32m~\\.conda\\envs\\datasci\\lib\\site-packages\\matplotlib\\pyplot.py\u001b[0m in \u001b[0;36mswitch_backend\u001b[1;34m(newbackend)\u001b[0m\n\u001b[0;32m    219\u001b[0m         else \"matplotlib.backends.backend_{}\".format(newbackend.lower()))\n\u001b[0;32m    220\u001b[0m \u001b[1;33m\u001b[0m\u001b[0m\n\u001b[1;32m--> 221\u001b[1;33m     \u001b[0mbackend_mod\u001b[0m \u001b[1;33m=\u001b[0m \u001b[0mimportlib\u001b[0m\u001b[1;33m.\u001b[0m\u001b[0mimport_module\u001b[0m\u001b[1;33m(\u001b[0m\u001b[0mbackend_name\u001b[0m\u001b[1;33m)\u001b[0m\u001b[1;33m\u001b[0m\u001b[1;33m\u001b[0m\u001b[0m\n\u001b[0m\u001b[0;32m    222\u001b[0m     Backend = type(\n\u001b[0;32m    223\u001b[0m         \"Backend\", (matplotlib.backends._Backend,), vars(backend_mod))\n",
      "\u001b[1;32m~\\.conda\\envs\\datasci\\lib\\importlib\\__init__.py\u001b[0m in \u001b[0;36mimport_module\u001b[1;34m(name, package)\u001b[0m\n\u001b[0;32m    125\u001b[0m                 \u001b[1;32mbreak\u001b[0m\u001b[1;33m\u001b[0m\u001b[1;33m\u001b[0m\u001b[0m\n\u001b[0;32m    126\u001b[0m             \u001b[0mlevel\u001b[0m \u001b[1;33m+=\u001b[0m \u001b[1;36m1\u001b[0m\u001b[1;33m\u001b[0m\u001b[1;33m\u001b[0m\u001b[0m\n\u001b[1;32m--> 127\u001b[1;33m     \u001b[1;32mreturn\u001b[0m \u001b[0m_bootstrap\u001b[0m\u001b[1;33m.\u001b[0m\u001b[0m_gcd_import\u001b[0m\u001b[1;33m(\u001b[0m\u001b[0mname\u001b[0m\u001b[1;33m[\u001b[0m\u001b[0mlevel\u001b[0m\u001b[1;33m:\u001b[0m\u001b[1;33m]\u001b[0m\u001b[1;33m,\u001b[0m \u001b[0mpackage\u001b[0m\u001b[1;33m,\u001b[0m \u001b[0mlevel\u001b[0m\u001b[1;33m)\u001b[0m\u001b[1;33m\u001b[0m\u001b[1;33m\u001b[0m\u001b[0m\n\u001b[0m\u001b[0;32m    128\u001b[0m \u001b[1;33m\u001b[0m\u001b[0m\n\u001b[0;32m    129\u001b[0m \u001b[1;33m\u001b[0m\u001b[0m\n",
      "\u001b[1;32m~\\.conda\\envs\\datasci\\lib\\importlib\\_bootstrap.py\u001b[0m in \u001b[0;36m_gcd_import\u001b[1;34m(name, package, level)\u001b[0m\n",
      "\u001b[1;32m~\\.conda\\envs\\datasci\\lib\\importlib\\_bootstrap.py\u001b[0m in \u001b[0;36m_find_and_load\u001b[1;34m(name, import_)\u001b[0m\n",
      "\u001b[1;32m~\\.conda\\envs\\datasci\\lib\\importlib\\_bootstrap.py\u001b[0m in \u001b[0;36m_find_and_load_unlocked\u001b[1;34m(name, import_)\u001b[0m\n",
      "\u001b[1;32m~\\.conda\\envs\\datasci\\lib\\importlib\\_bootstrap.py\u001b[0m in \u001b[0;36m_call_with_frames_removed\u001b[1;34m(f, *args, **kwds)\u001b[0m\n",
      "\u001b[1;32m~\\.conda\\envs\\datasci\\lib\\importlib\\_bootstrap.py\u001b[0m in \u001b[0;36m_gcd_import\u001b[1;34m(name, package, level)\u001b[0m\n",
      "\u001b[1;32m~\\.conda\\envs\\datasci\\lib\\importlib\\_bootstrap.py\u001b[0m in \u001b[0;36m_find_and_load\u001b[1;34m(name, import_)\u001b[0m\n",
      "\u001b[1;32m~\\.conda\\envs\\datasci\\lib\\importlib\\_bootstrap.py\u001b[0m in \u001b[0;36m_find_and_load_unlocked\u001b[1;34m(name, import_)\u001b[0m\n",
      "\u001b[1;31mModuleNotFoundError\u001b[0m: No module named 'ipympl'"
     ]
    }
   ],
   "source": [
    "x = onepoint.y.values\n",
    "y = onepoint.z.values\n",
    "color=['C0','C1'][int(onepoint.scorer.mode()[0])]\n",
    "interval=7\n",
    "tail = 20\n",
    "fig,ax = plt.subplots()\n",
    "WIDTH = 100\n",
    "HEIGHT = 600 / 5\n",
    "\n",
    "# ===============\n",
    "%matplotlib widget\n",
    "\n",
    "ln, = plt.plot([], [], 'o', c=color, alpha=0.8)\n",
    "\n",
    "def init():\n",
    "    ax.set_xlim(-WIDTH,WIDTH)\n",
    "    ax.set_ylim(-HEIGHT, HEIGHT)\n",
    "    return ln,\n",
    "\n",
    "def update(frame):\n",
    "    #print(frame)\n",
    "    ln.set_data(x[max(0,frame-tail):frame], y[max(0,frame-tail):frame])\n",
    "    return ln,\n",
    "\n",
    "ani = FuncAnimation(fig, update, frames=np.arange(len(x)),\n",
    "                    init_func=init, blit=True, interval=interval)\n",
    "plt.show()"
   ]
  },
  {
   "cell_type": "markdown",
   "metadata": {},
   "source": [
    "We can learn more about how our variables are distributed by looking at the\n",
    "location of the ball in the last frame of each play. We should expect all the\n",
    "scores by team 0 to appear on one end of the field and the scores by team 1 on\n",
    "the other end of the field, with some neutral balls on the ground in the midfield."
   ]
  },
  {
   "cell_type": "code",
   "execution_count": 150,
   "metadata": {},
   "outputs": [
    {
     "data": {
      "image/png": "[encoded data removed]",
      "text/plain": [
       "<Figure size 432x288 with 1 Axes>"
      ]
     },
     "metadata": {
      "needs_background": "light"
     },
     "output_type": "display_data"
    }
   ],
   "source": [
    "%matplotlib inline\n",
    "gb = data.groupby(['id', 'pt'])\n",
    "last_fn = lambda s: s.iloc[-1]\n",
    "#scorers = gb['scorer'].agg({'scorer':pd.Series.mode, 'ending_x': x_fn, 'ending_y': y_fn\n",
    "final_seconds = gb.agg({'scorer':pd.Series.mode, 'x':last_fn, 'y':last_fn})\n",
    "\n",
    "plt.figure()\n",
    "color_fn = lambda scorer: f\"C{int(scorer)}\" if scorer % 1 == 0 else \"C2\"\n",
    "plt.scatter(final_seconds.x, final_seconds.y, s=5, c=final_seconds.scorer.map(color_fn))\n",
    "plt.show()"
   ]
  },
  {
   "cell_type": "markdown",
   "metadata": {},
   "source": [
    "So we can reasonably affirm these relationships:\n",
    "\n",
    "| Team 0 | Team 1 |\n",
    "|--|--|\n",
    "| `+y` | `-y` |\n",
    "\n",
    "We notice that there's a lot of data clumped in the middle of the field, which\n",
    "doesn't make sense--the ball will only end there by chance. We look closer at\n",
    "these points to find the discrepancy."
   ]
  },
  {
   "cell_type": "code",
   "execution_count": 73,
   "metadata": {},
   "outputs": [
    {
     "name": "stdout",
     "output_type": "stream",
     "text": [
      "30.47%\n"
     ]
    }
   ],
   "source": [
    "#plt.figure()\n",
    "is_weird = (final_seconds.y.abs() < 5000)\n",
    "is_not_weird = (final_seconds.y.abs() > 5000)\n",
    "print(f\"{is_weird.mean():.2%}\")"
   ]
  },
  {
   "cell_type": "code",
   "execution_count": 151,
   "metadata": {},
   "outputs": [
    {
     "data": {
      "image/png": "[encoded data removed]",
      "text/plain": [
       "<Figure size 432x288 with 1 Axes>"
      ]
     },
     "metadata": {
      "needs_background": "light"
     },
     "output_type": "display_data"
    }
   ],
   "source": [
    "rangeof = lambda s: s.abs().max()*2\n",
    "is_long = gb.t.agg(max)\n",
    "ranges = gb.y.agg(rangeof)\n",
    "plt.hist(ranges)\n",
    "plt.xlabel(\"Range of y values\")\n",
    "plt.ylabel(\"Count\")\n",
    "plt.show()"
   ]
  },
  {
   "cell_type": "code",
   "execution_count": 156,
   "metadata": {
    "scrolled": false
   },
   "outputs": [
    {
     "name": "stdout",
     "output_type": "stream",
     "text": [
      "Max of small-scale: 119.7\n"
     ]
    },
    {
     "data": {
      "image/png": "[encoded data removed]",
      "text/plain": [
       "<Figure size 432x288 with 1 Axes>"
      ]
     },
     "metadata": {
      "needs_background": "light"
     },
     "output_type": "display_data"
    }
   ],
   "source": [
    "small_ranges = ranges.loc[ranges<150]\n",
    "plt.plot(sorted(small_ranges), np.arange(len(small_ranges)))\n",
    "print(\"Max of small-scale:\", max(small_ranges))\n",
    "plt.ylabel('Count')\n",
    "plt.xlabel(\"Cumulative cutoff\")\n",
    "plt.show()"
   ]
  },
  {
   "cell_type": "code",
   "execution_count": 159,
   "metadata": {},
   "outputs": [
    {
     "data": {
      "image/png": "[encoded data removed]",
      "text/plain": [
       "<Figure size 432x288 with 1 Axes>"
      ]
     },
     "metadata": {
      "needs_background": "light"
     },
     "output_type": "display_data"
    },
    {
     "name": "stdout",
     "output_type": "stream",
     "text": [
      "Max of large-scale: 11989.4\n"
     ]
    }
   ],
   "source": [
    "large_ranges = ranges.loc[ranges>150]\n",
    "plt.plot(sorted(large_ranges), np.arange(len(large_ranges)))\n",
    "plt.show()\n",
    "print(\"Max of large-scale:\", max(large_ranges))"
   ]
  },
  {
   "cell_type": "markdown",
   "metadata": {},
   "source": [
    "We can see two identical distributions in this data, replicated at two\n",
    "completely different scales. There must be something wrong with the sampling. I\n",
    "wonder if the scale of the replay files changed at some date."
   ]
  },
  {
   "cell_type": "code",
   "execution_count": 160,
   "metadata": {},
   "outputs": [
    {
     "data": {
      "image/png": "[encoded data removed]",
      "text/plain": [
       "<Figure size 432x288 with 1 Axes>"
      ]
     },
     "metadata": {
      "needs_background": "light"
     },
     "output_type": "display_data"
    }
   ],
   "source": [
    "plt.scatter(gb.month.agg('mean'), ranges)\n",
    "plt.yscale('log')\n",
    "plt.xlabel(\"Month of year\")\n",
    "plt.ylabel(\"Absolute range\")\n",
    "plt.show()"
   ]
  },
  {
   "cell_type": "markdown",
   "metadata": {},
   "source": [
    "I guess something weird happened in June. We can drop all those entries though."
   ]
  },
  {
   "cell_type": "code",
   "execution_count": 166,
   "metadata": {},
   "outputs": [
    {
     "name": "stderr",
     "output_type": "stream",
     "text": [
      "C:\\Users\\Sam\\AppData\\Roaming\\Python\\Python37\\site-packages\\ipykernel_launcher.py:2: SettingWithCopyWarning: \n",
      "A value is trying to be set on a copy of a slice from a DataFrame.\n",
      "Try using .loc[row_indexer,col_indexer] = value instead\n",
      "\n",
      "See the caveats in the documentation: https://pandas.pydata.org/pandas-docs/stable/user_guide/indexing.html#returning-a-view-versus-a-copy\n",
      "  \n"
     ]
    },
    {
     "data": {
      "text/html": [
       "<div>\n",
       "<style scoped>\n",
       "    .dataframe tbody tr th:only-of-type {\n",
       "        vertical-align: middle;\n",
       "    }\n",
       "\n",
       "    .dataframe tbody tr th {\n",
       "        vertical-align: top;\n",
       "    }\n",
       "\n",
       "    .dataframe thead th {\n",
       "        text-align: right;\n",
       "    }\n",
       "</style>\n",
       "<table border=\"1\" class=\"dataframe\">\n",
       "  <thead>\n",
       "    <tr style=\"text-align: right;\">\n",
       "      <th></th>\n",
       "      <th>f</th>\n",
       "      <th>ix</th>\n",
       "      <th>t</th>\n",
       "      <th>x</th>\n",
       "      <th>y</th>\n",
       "      <th>z</th>\n",
       "      <th>dx</th>\n",
       "      <th>dy</th>\n",
       "      <th>dz</th>\n",
       "      <th>scorer</th>\n",
       "      <th>pt</th>\n",
       "      <th>month</th>\n",
       "      <th>id</th>\n",
       "      <th>x_abs</th>\n",
       "    </tr>\n",
       "  </thead>\n",
       "  <tbody>\n",
       "    <tr>\n",
       "      <th>0</th>\n",
       "      <td>0</td>\n",
       "      <td>0</td>\n",
       "      <td>12.733936</td>\n",
       "      <td>0.00</td>\n",
       "      <td>0.00</td>\n",
       "      <td>92.87</td>\n",
       "      <td>0.00</td>\n",
       "      <td>0.00</td>\n",
       "      <td>0.00</td>\n",
       "      <td>1.0</td>\n",
       "      <td>0</td>\n",
       "      <td>2</td>\n",
       "      <td>02BC803B4481747BDB6B6FA3452F2796</td>\n",
       "      <td>0.00</td>\n",
       "    </tr>\n",
       "    <tr>\n",
       "      <th>1</th>\n",
       "      <td>127</td>\n",
       "      <td>0</td>\n",
       "      <td>18.879103</td>\n",
       "      <td>22.88</td>\n",
       "      <td>-38.32</td>\n",
       "      <td>94.99</td>\n",
       "      <td>1512.35</td>\n",
       "      <td>-2715.01</td>\n",
       "      <td>220.28</td>\n",
       "      <td>1.0</td>\n",
       "      <td>0</td>\n",
       "      <td>2</td>\n",
       "      <td>02BC803B4481747BDB6B6FA3452F2796</td>\n",
       "      <td>22.88</td>\n",
       "    </tr>\n",
       "    <tr>\n",
       "      <th>2</th>\n",
       "      <td>128</td>\n",
       "      <td>0</td>\n",
       "      <td>18.927488</td>\n",
       "      <td>98.43</td>\n",
       "      <td>-173.95</td>\n",
       "      <td>105.04</td>\n",
       "      <td>1510.01</td>\n",
       "      <td>-2710.87</td>\n",
       "      <td>187.44</td>\n",
       "      <td>1.0</td>\n",
       "      <td>0</td>\n",
       "      <td>2</td>\n",
       "      <td>02BC803B4481747BDB6B6FA3452F2796</td>\n",
       "      <td>98.43</td>\n",
       "    </tr>\n",
       "    <tr>\n",
       "      <th>3</th>\n",
       "      <td>129</td>\n",
       "      <td>0</td>\n",
       "      <td>18.975874</td>\n",
       "      <td>148.73</td>\n",
       "      <td>-264.25</td>\n",
       "      <td>110.84</td>\n",
       "      <td>1508.45</td>\n",
       "      <td>-2708.11</td>\n",
       "      <td>165.57</td>\n",
       "      <td>1.0</td>\n",
       "      <td>0</td>\n",
       "      <td>2</td>\n",
       "      <td>02BC803B4481747BDB6B6FA3452F2796</td>\n",
       "      <td>148.73</td>\n",
       "    </tr>\n",
       "    <tr>\n",
       "      <th>4</th>\n",
       "      <td>130</td>\n",
       "      <td>0</td>\n",
       "      <td>19.024260</td>\n",
       "      <td>249.17</td>\n",
       "      <td>-444.58</td>\n",
       "      <td>120.24</td>\n",
       "      <td>1505.33</td>\n",
       "      <td>-2702.59</td>\n",
       "      <td>121.91</td>\n",
       "      <td>1.0</td>\n",
       "      <td>0</td>\n",
       "      <td>2</td>\n",
       "      <td>02BC803B4481747BDB6B6FA3452F2796</td>\n",
       "      <td>249.17</td>\n",
       "    </tr>\n",
       "  </tbody>\n",
       "</table>\n",
       "</div>"
      ],
      "text/plain": [
       "     f  ix          t       x       y       z       dx       dy      dz  \\\n",
       "0    0   0  12.733936    0.00    0.00   92.87     0.00     0.00    0.00   \n",
       "1  127   0  18.879103   22.88  -38.32   94.99  1512.35 -2715.01  220.28   \n",
       "2  128   0  18.927488   98.43 -173.95  105.04  1510.01 -2710.87  187.44   \n",
       "3  129   0  18.975874  148.73 -264.25  110.84  1508.45 -2708.11  165.57   \n",
       "4  130   0  19.024260  249.17 -444.58  120.24  1505.33 -2702.59  121.91   \n",
       "\n",
       "   scorer  pt  month                                id   x_abs  \n",
       "0     1.0   0      2  02BC803B4481747BDB6B6FA3452F2796    0.00  \n",
       "1     1.0   0      2  02BC803B4481747BDB6B6FA3452F2796   22.88  \n",
       "2     1.0   0      2  02BC803B4481747BDB6B6FA3452F2796   98.43  \n",
       "3     1.0   0      2  02BC803B4481747BDB6B6FA3452F2796  148.73  \n",
       "4     1.0   0      2  02BC803B4481747BDB6B6FA3452F2796  249.17  "
      ]
     },
     "execution_count": 166,
     "metadata": {},
     "output_type": "execute_result"
    }
   ],
   "source": [
    "dataf = data.loc[data.month != 6]\n",
    "dataf['x_abs'] = dataf['x'].abs()\n",
    "dataf.head()"
   ]
  },
  {
   "cell_type": "markdown",
   "metadata": {},
   "source": [
    "Let's look at those last-second ball locations again, to see if they make more\n",
    "sense now."
   ]
  },
  {
   "cell_type": "code",
   "execution_count": 167,
   "metadata": {},
   "outputs": [
    {
     "data": {
      "image/png": "[encoded data removed]",
      "text/plain": [
       "<Figure size 432x288 with 1 Axes>"
      ]
     },
     "metadata": {
      "needs_background": "light"
     },
     "output_type": "display_data"
    },
    {
     "name": "stdout",
     "output_type": "stream",
     "text": [
      "Number of points: 335\n"
     ]
    }
   ],
   "source": [
    "gb = dataf.groupby(['id','pt'])\n",
    "final_seconds = gb.agg({'scorer':pd.Series.mode, 'x':last_fn, 'y':last_fn})\n",
    "\n",
    "plt.figure()\n",
    "color_fn = lambda scorer: f\"C{int(scorer)}\" if scorer % 1 == 0 else \"C2\"\n",
    "plt.scatter(final_seconds.x, final_seconds.y, s=5, c=final_seconds.scorer.map(color_fn))\n",
    "plt.show()\n",
    "print(\"Number of points:\", len(final_seconds))"
   ]
  },
  {
   "cell_type": "markdown",
   "metadata": {},
   "source": [
    "The clump of data in the center has disappeared, but there's still a lot of blue\n",
    "and orange points scattered around the midfield. I'm not sure why that would be.\n",
    "Something like overtime might be the culprit, although I haven't figured out\n",
    "exactly how that could be the case.\n",
    "\n",
    "## Training\n",
    "\n",
    "We assign the replays to test and train by IDs, so that we don't have data from the same replay in both the training and testing sets."
   ]
  },
  {
   "cell_type": "code",
   "execution_count": 170,
   "metadata": {},
   "outputs": [],
   "source": [
    "train_ids, test_ids = train_test_split(dataf.id.unique())\n",
    "\n",
    "features = ['x', 'y', 'z', 'dx', 'dy', 'dz','x_abs']\n",
    "\n",
    "X_train = dataf.loc[data.id.isin(train_ids), features]\n",
    "y_train = dataf.loc[data.id.isin(train_ids), 'scorer']\n",
    "X_test = dataf.loc[data.id.isin(test_ids), features]\n",
    "y_test = dataf.loc[data.id.isin(test_ids), 'scorer']\n",
    "#X_train, X_test, y_train, y_test = train_test_split(X, gb['scorer'])"
   ]
  },
  {
   "cell_type": "code",
   "execution_count": 171,
   "metadata": {},
   "outputs": [
    {
     "data": {
      "text/plain": [
       "<matplotlib.axes._subplots.AxesSubplot at 0x188c04cd308>"
      ]
     },
     "execution_count": 171,
     "metadata": {},
     "output_type": "execute_result"
    },
    {
     "data": {
      "image/png": "[encoded data removed]",
      "text/plain": [
       "<Figure size 432x288 with 1 Axes>"
      ]
     },
     "metadata": {
      "needs_background": "light"
     },
     "output_type": "display_data"
    }
   ],
   "source": [
    "# Check for bias in training data\n",
    "plt.figure()\n",
    "y_train.value_counts().plot(kind='bar')"
   ]
  },
  {
   "cell_type": "markdown",
   "metadata": {},
   "source": [
    "First we'll see how effective a simple logistic regression can be."
   ]
  },
  {
   "cell_type": "code",
   "execution_count": 173,
   "metadata": {},
   "outputs": [
    {
     "name": "stderr",
     "output_type": "stream",
     "text": [
      "C:\\Users\\Sam\\.conda\\envs\\datasci\\lib\\site-packages\\sklearn\\linear_model\\_logistic.py:940: ConvergenceWarning: lbfgs failed to converge (status=1):\n",
      "STOP: TOTAL NO. of ITERATIONS REACHED LIMIT.\n",
      "\n",
      "Increase the number of iterations (max_iter) or scale the data as shown in:\n",
      "    https://scikit-learn.org/stable/modules/preprocessing.html\n",
      "Please also refer to the documentation for alternative solver options:\n",
      "    https://scikit-learn.org/stable/modules/linear_model.html#logistic-regression\n",
      "  extra_warning_msg=_LOGISTIC_SOLVER_CONVERGENCE_MSG)\n"
     ]
    },
    {
     "data": {
      "text/plain": [
       "LogisticRegression(C=1.0, class_weight=None, dual=False, fit_intercept=True,\n",
       "                   intercept_scaling=1, l1_ratio=None, max_iter=100,\n",
       "                   multi_class='multinomial', n_jobs=None, penalty='l2',\n",
       "                   random_state=None, solver='lbfgs', tol=0.0001, verbose=0,\n",
       "                   warm_start=False)"
      ]
     },
     "execution_count": 173,
     "metadata": {},
     "output_type": "execute_result"
    }
   ],
   "source": [
    "reclass = {0:0,1:1,0.5:2,2:2}\n",
    "y_train = y_train.map(reclass)\n",
    "y_test = y_test.map(reclass)\n",
    "\n",
    "model = LogisticRegression(multi_class='multinomial')\n",
    "model.fit(X_train, y_train)"
   ]
  },
  {
   "cell_type": "code",
   "execution_count": 174,
   "metadata": {},
   "outputs": [
    {
     "name": "stdout",
     "output_type": "stream",
     "text": [
      "Test accuracy: 57.43%\n"
     ]
    }
   ],
   "source": [
    "y_pred = model.predict(X_test)\n",
    "print(f\"Test accuracy: {(y_pred == y_test).mean():.2%}\")"
   ]
  },
  {
   "cell_type": "markdown",
   "metadata": {},
   "source": [
    "Because our most common class covers just over 50% of the testing data, this\n",
    "isn't really a significant result. We examine a confusion matrix below to see\n",
    "where these errors are coming from."
   ]
  },
  {
   "cell_type": "code",
   "execution_count": 175,
   "metadata": {},
   "outputs": [
    {
     "data": {
      "image/png": "[encoded data removed]",
      "text/plain": [
       "<Figure size 432x288 with 1 Axes>"
      ]
     },
     "metadata": {
      "needs_background": "light"
     },
     "output_type": "display_data"
    }
   ],
   "source": [
    "width = 0.2\n",
    "xticks  = np.arange(3)\n",
    "labels, counts = np.unique(y_pred, return_counts=True)\n",
    "counts = [(y_pred == n).mean() for n in [0,1,2]]\n",
    "\n",
    "plt.bar(xticks - width, y_train.value_counts() / len(y_train), width, label='train')\n",
    "plt.bar(xticks, y_test.value_counts() / len(y_test),width, label='test')\n",
    "plt.bar(xticks + width, counts, width, label='pred')\n",
    "plt.xticks(xticks)\n",
    "plt.legend()\n",
    "\n",
    "plt.show()"
   ]
  },
  {
   "cell_type": "code",
   "execution_count": 176,
   "metadata": {},
   "outputs": [
    {
     "data": {
      "text/plain": [
       "<sklearn.metrics._plot.confusion_matrix.ConfusionMatrixDisplay at 0x18899d15708>"
      ]
     },
     "execution_count": 176,
     "metadata": {},
     "output_type": "execute_result"
    },
    {
     "data": {
      "image/png": "[encoded data removed]",
      "text/plain": [
       "<Figure size 432x288 with 2 Axes>"
      ]
     },
     "metadata": {
      "needs_background": "light"
     },
     "output_type": "display_data"
    }
   ],
   "source": [
    "ConfusionMatrixDisplay(confusion_matrix(y_test, y_pred)/len(y_test), [0,1,2]).plot()"
   ]
  },
  {
   "cell_type": "markdown",
   "metadata": {},
   "source": [
    "So our model tends to overpredict on one particular class. Not sure why that is,\n",
    "it's not even choosing the most common class in the training set."
   ]
  },
  {
   "cell_type": "code",
   "execution_count": 177,
   "metadata": {},
   "outputs": [
    {
     "data": {
      "image/png": "[encoded data removed]",
      "text/plain": [
       "<Figure size 432x288 with 1 Axes>"
      ]
     },
     "metadata": {
      "needs_background": "light"
     },
     "output_type": "display_data"
    }
   ],
   "source": [
    "import seaborn as sns\n",
    "\n",
    "sns.kdeplot(dataf.x.abs())\n",
    "sns.kdeplot(dataf.y)\n",
    "plt.show()"
   ]
  },
  {
   "cell_type": "markdown",
   "metadata": {},
   "source": [
    "I want to look at the model coefficients to understand how the model is\n",
    "predicting, but first I have to examine the distributions of the variables to\n",
    "see that they're reasonable. They're kind of not. I'll need to rescale before I\n",
    "can compare the coefficient weights."
   ]
  }
 ],
 "metadata": {
  "interpreter": {
   "hash": "521ed9718791aa744438ee5ab9e34ef25ad18ccaf4ce95228248f3b46371c374"
  },
  "kernelspec": {
   "display_name": "Python 3 (ipykernel)",
   "language": "python",
   "name": "python3"
  },
  "language_info": {
   "codemirror_mode": {
    "name": "ipython",
    "version": 3
   },
   "file_extension": ".py",
   "mimetype": "text/x-python",
   "name": "python",
   "nbconvert_exporter": "python",
   "pygments_lexer": "ipython3",
   "version": "3.7.7"
  }
 },
 "nbformat": 4,
 "nbformat_minor": 2
}
