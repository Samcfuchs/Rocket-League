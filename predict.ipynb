{
 "cells": [
  {
   "cell_type": "code",
   "execution_count": 1,
   "metadata": {},
   "outputs": [],
   "source": [
    "import pandas as pd\n",
    "import numpy as np\n",
    "\n",
    "from sklearn.linear_model import LogisticRegression\n",
    "from sklearn.model_selection import train_test_split\n",
    "from sklearn.metrics import ConfusionMatrixDisplay, confusion_matrix\n",
    "\n",
    "import matplotlib.pyplot as plt\n",
    "import matplotlib.animation as animation\n",
    "from matplotlib.animation import FuncAnimation\n",
    "\n",
    "#%matplotlib notebook"
   ]
  },
  {
   "cell_type": "code",
   "execution_count": 2,
   "metadata": {},
   "outputs": [
    {
     "data": {
      "text/html": [
       "<div>\n",
       "<style scoped>\n",
       "    .dataframe tbody tr th:only-of-type {\n",
       "        vertical-align: middle;\n",
       "    }\n",
       "\n",
       "    .dataframe tbody tr th {\n",
       "        vertical-align: top;\n",
       "    }\n",
       "\n",
       "    .dataframe thead th {\n",
       "        text-align: right;\n",
       "    }\n",
       "</style>\n",
       "<table border=\"1\" class=\"dataframe\">\n",
       "  <thead>\n",
       "    <tr style=\"text-align: right;\">\n",
       "      <th></th>\n",
       "      <th>f</th>\n",
       "      <th>ix</th>\n",
       "      <th>t</th>\n",
       "      <th>x</th>\n",
       "      <th>y</th>\n",
       "      <th>z</th>\n",
       "      <th>dx</th>\n",
       "      <th>dy</th>\n",
       "      <th>dz</th>\n",
       "      <th>scorer</th>\n",
       "      <th>pt</th>\n",
       "      <th>month</th>\n",
       "      <th>id</th>\n",
       "    </tr>\n",
       "  </thead>\n",
       "  <tbody>\n",
       "    <tr>\n",
       "      <th>0</th>\n",
       "      <td>0</td>\n",
       "      <td>0</td>\n",
       "      <td>12.733936</td>\n",
       "      <td>0.00</td>\n",
       "      <td>0.00</td>\n",
       "      <td>92.87</td>\n",
       "      <td>0.00</td>\n",
       "      <td>0.00</td>\n",
       "      <td>0.00</td>\n",
       "      <td>1.0</td>\n",
       "      <td>0</td>\n",
       "      <td>2</td>\n",
       "      <td>02BC803B4481747BDB6B6FA3452F2796</td>\n",
       "    </tr>\n",
       "    <tr>\n",
       "      <th>1</th>\n",
       "      <td>127</td>\n",
       "      <td>0</td>\n",
       "      <td>18.879103</td>\n",
       "      <td>22.88</td>\n",
       "      <td>-38.32</td>\n",
       "      <td>94.99</td>\n",
       "      <td>1512.35</td>\n",
       "      <td>-2715.01</td>\n",
       "      <td>220.28</td>\n",
       "      <td>1.0</td>\n",
       "      <td>0</td>\n",
       "      <td>2</td>\n",
       "      <td>02BC803B4481747BDB6B6FA3452F2796</td>\n",
       "    </tr>\n",
       "    <tr>\n",
       "      <th>2</th>\n",
       "      <td>128</td>\n",
       "      <td>0</td>\n",
       "      <td>18.927488</td>\n",
       "      <td>98.43</td>\n",
       "      <td>-173.95</td>\n",
       "      <td>105.04</td>\n",
       "      <td>1510.01</td>\n",
       "      <td>-2710.87</td>\n",
       "      <td>187.44</td>\n",
       "      <td>1.0</td>\n",
       "      <td>0</td>\n",
       "      <td>2</td>\n",
       "      <td>02BC803B4481747BDB6B6FA3452F2796</td>\n",
       "    </tr>\n",
       "    <tr>\n",
       "      <th>3</th>\n",
       "      <td>129</td>\n",
       "      <td>0</td>\n",
       "      <td>18.975874</td>\n",
       "      <td>148.73</td>\n",
       "      <td>-264.25</td>\n",
       "      <td>110.84</td>\n",
       "      <td>1508.45</td>\n",
       "      <td>-2708.11</td>\n",
       "      <td>165.57</td>\n",
       "      <td>1.0</td>\n",
       "      <td>0</td>\n",
       "      <td>2</td>\n",
       "      <td>02BC803B4481747BDB6B6FA3452F2796</td>\n",
       "    </tr>\n",
       "    <tr>\n",
       "      <th>4</th>\n",
       "      <td>130</td>\n",
       "      <td>0</td>\n",
       "      <td>19.024260</td>\n",
       "      <td>249.17</td>\n",
       "      <td>-444.58</td>\n",
       "      <td>120.24</td>\n",
       "      <td>1505.33</td>\n",
       "      <td>-2702.59</td>\n",
       "      <td>121.91</td>\n",
       "      <td>1.0</td>\n",
       "      <td>0</td>\n",
       "      <td>2</td>\n",
       "      <td>02BC803B4481747BDB6B6FA3452F2796</td>\n",
       "    </tr>\n",
       "  </tbody>\n",
       "</table>\n",
       "</div>"
      ],
      "text/plain": [
       "     f  ix          t       x       y       z       dx       dy      dz  \\\n",
       "0    0   0  12.733936    0.00    0.00   92.87     0.00     0.00    0.00   \n",
       "1  127   0  18.879103   22.88  -38.32   94.99  1512.35 -2715.01  220.28   \n",
       "2  128   0  18.927488   98.43 -173.95  105.04  1510.01 -2710.87  187.44   \n",
       "3  129   0  18.975874  148.73 -264.25  110.84  1508.45 -2708.11  165.57   \n",
       "4  130   0  19.024260  249.17 -444.58  120.24  1505.33 -2702.59  121.91   \n",
       "\n",
       "   scorer  pt  month                                id  \n",
       "0     1.0   0      2  02BC803B4481747BDB6B6FA3452F2796  \n",
       "1     1.0   0      2  02BC803B4481747BDB6B6FA3452F2796  \n",
       "2     1.0   0      2  02BC803B4481747BDB6B6FA3452F2796  \n",
       "3     1.0   0      2  02BC803B4481747BDB6B6FA3452F2796  \n",
       "4     1.0   0      2  02BC803B4481747BDB6B6FA3452F2796  "
      ]
     },
     "execution_count": 2,
     "metadata": {},
     "output_type": "execute_result"
    }
   ],
   "source": [
    "data = pd.read_json(\"parsed/my_replays.json\")\n",
    "#data.set_index(['id','f'],inplace=True)\n",
    "data.head()"
   ]
  },
  {
   "cell_type": "code",
   "execution_count": 3,
   "metadata": {},
   "outputs": [
    {
     "data": {
      "text/html": [
       "<div>\n",
       "<style scoped>\n",
       "    .dataframe tbody tr th:only-of-type {\n",
       "        vertical-align: middle;\n",
       "    }\n",
       "\n",
       "    .dataframe tbody tr th {\n",
       "        vertical-align: top;\n",
       "    }\n",
       "\n",
       "    .dataframe thead th {\n",
       "        text-align: right;\n",
       "    }\n",
       "</style>\n",
       "<table border=\"1\" class=\"dataframe\">\n",
       "  <thead>\n",
       "    <tr style=\"text-align: right;\">\n",
       "      <th></th>\n",
       "      <th>f</th>\n",
       "      <th>ix</th>\n",
       "      <th>t</th>\n",
       "      <th>x</th>\n",
       "      <th>y</th>\n",
       "      <th>z</th>\n",
       "      <th>dx</th>\n",
       "      <th>dy</th>\n",
       "      <th>dz</th>\n",
       "      <th>scorer</th>\n",
       "      <th>pt</th>\n",
       "      <th>month</th>\n",
       "    </tr>\n",
       "  </thead>\n",
       "  <tbody>\n",
       "    <tr>\n",
       "      <th>count</th>\n",
       "      <td>334678.000000</td>\n",
       "      <td>334678.000000</td>\n",
       "      <td>334678.000000</td>\n",
       "      <td>334678.000000</td>\n",
       "      <td>334678.000000</td>\n",
       "      <td>334678.000000</td>\n",
       "      <td>334678.000000</td>\n",
       "      <td>334678.000000</td>\n",
       "      <td>334678.000000</td>\n",
       "      <td>334678.000000</td>\n",
       "      <td>334678.000000</td>\n",
       "      <td>334678.000000</td>\n",
       "    </tr>\n",
       "    <tr>\n",
       "      <th>mean</th>\n",
       "      <td>5541.596848</td>\n",
       "      <td>93.861679</td>\n",
       "      <td>244.040719</td>\n",
       "      <td>89.272086</td>\n",
       "      <td>-96.934779</td>\n",
       "      <td>418.518451</td>\n",
       "      <td>0.344782</td>\n",
       "      <td>-15.852722</td>\n",
       "      <td>4.396626</td>\n",
       "      <td>0.554781</td>\n",
       "      <td>4.125506</td>\n",
       "      <td>5.037316</td>\n",
       "    </tr>\n",
       "    <tr>\n",
       "      <th>std</th>\n",
       "      <td>3729.014576</td>\n",
       "      <td>65.993175</td>\n",
       "      <td>145.720900</td>\n",
       "      <td>2416.870786</td>\n",
       "      <td>2999.537926</td>\n",
       "      <td>420.582911</td>\n",
       "      <td>905.348108</td>\n",
       "      <td>1052.947806</td>\n",
       "      <td>480.920511</td>\n",
       "      <td>0.476737</td>\n",
       "      <td>3.263182</td>\n",
       "      <td>2.593399</td>\n",
       "    </tr>\n",
       "    <tr>\n",
       "      <th>min</th>\n",
       "      <td>0.000000</td>\n",
       "      <td>0.000000</td>\n",
       "      <td>0.400000</td>\n",
       "      <td>-5146.340000</td>\n",
       "      <td>-5994.700000</td>\n",
       "      <td>0.090000</td>\n",
       "      <td>-5060.700000</td>\n",
       "      <td>-4698.220000</td>\n",
       "      <td>-2357.310000</td>\n",
       "      <td>0.000000</td>\n",
       "      <td>0.000000</td>\n",
       "      <td>2.000000</td>\n",
       "    </tr>\n",
       "    <tr>\n",
       "      <th>25%</th>\n",
       "      <td>2614.000000</td>\n",
       "      <td>47.000000</td>\n",
       "      <td>123.687223</td>\n",
       "      <td>-1966.907500</td>\n",
       "      <td>-2721.067500</td>\n",
       "      <td>110.870000</td>\n",
       "      <td>-491.647500</td>\n",
       "      <td>-607.250000</td>\n",
       "      <td>-219.170000</td>\n",
       "      <td>0.000000</td>\n",
       "      <td>2.000000</td>\n",
       "      <td>3.000000</td>\n",
       "    </tr>\n",
       "    <tr>\n",
       "      <th>50%</th>\n",
       "      <td>5096.000000</td>\n",
       "      <td>92.000000</td>\n",
       "      <td>232.685365</td>\n",
       "      <td>7.360000</td>\n",
       "      <td>-10.120000</td>\n",
       "      <td>267.270000</td>\n",
       "      <td>0.000000</td>\n",
       "      <td>0.000000</td>\n",
       "      <td>0.000000</td>\n",
       "      <td>1.000000</td>\n",
       "      <td>4.000000</td>\n",
       "      <td>5.000000</td>\n",
       "    </tr>\n",
       "    <tr>\n",
       "      <th>75%</th>\n",
       "      <td>7655.000000</td>\n",
       "      <td>134.000000</td>\n",
       "      <td>347.379710</td>\n",
       "      <td>2230.845000</td>\n",
       "      <td>2396.987500</td>\n",
       "      <td>598.130000</td>\n",
       "      <td>499.730000</td>\n",
       "      <td>585.665000</td>\n",
       "      <td>214.487500</td>\n",
       "      <td>1.000000</td>\n",
       "      <td>6.000000</td>\n",
       "      <td>6.000000</td>\n",
       "    </tr>\n",
       "    <tr>\n",
       "      <th>max</th>\n",
       "      <td>20610.000000</td>\n",
       "      <td>325.000000</td>\n",
       "      <td>728.406740</td>\n",
       "      <td>5146.730000</td>\n",
       "      <td>5990.030000</td>\n",
       "      <td>2000.810000</td>\n",
       "      <td>5893.910000</td>\n",
       "      <td>5163.750000</td>\n",
       "      <td>6785.030000</td>\n",
       "      <td>1.000000</td>\n",
       "      <td>17.000000</td>\n",
       "      <td>10.000000</td>\n",
       "    </tr>\n",
       "  </tbody>\n",
       "</table>\n",
       "</div>"
      ],
      "text/plain": [
       "                   f             ix              t              x  \\\n",
       "count  334678.000000  334678.000000  334678.000000  334678.000000   \n",
       "mean     5541.596848      93.861679     244.040719      89.272086   \n",
       "std      3729.014576      65.993175     145.720900    2416.870786   \n",
       "min         0.000000       0.000000       0.400000   -5146.340000   \n",
       "25%      2614.000000      47.000000     123.687223   -1966.907500   \n",
       "50%      5096.000000      92.000000     232.685365       7.360000   \n",
       "75%      7655.000000     134.000000     347.379710    2230.845000   \n",
       "max     20610.000000     325.000000     728.406740    5146.730000   \n",
       "\n",
       "                   y              z             dx             dy  \\\n",
       "count  334678.000000  334678.000000  334678.000000  334678.000000   \n",
       "mean      -96.934779     418.518451       0.344782     -15.852722   \n",
       "std      2999.537926     420.582911     905.348108    1052.947806   \n",
       "min     -5994.700000       0.090000   -5060.700000   -4698.220000   \n",
       "25%     -2721.067500     110.870000    -491.647500    -607.250000   \n",
       "50%       -10.120000     267.270000       0.000000       0.000000   \n",
       "75%      2396.987500     598.130000     499.730000     585.665000   \n",
       "max      5990.030000    2000.810000    5893.910000    5163.750000   \n",
       "\n",
       "                  dz         scorer             pt          month  \n",
       "count  334678.000000  334678.000000  334678.000000  334678.000000  \n",
       "mean        4.396626       0.554781       4.125506       5.037316  \n",
       "std       480.920511       0.476737       3.263182       2.593399  \n",
       "min     -2357.310000       0.000000       0.000000       2.000000  \n",
       "25%      -219.170000       0.000000       2.000000       3.000000  \n",
       "50%         0.000000       1.000000       4.000000       5.000000  \n",
       "75%       214.487500       1.000000       6.000000       6.000000  \n",
       "max      6785.030000       1.000000      17.000000      10.000000  "
      ]
     },
     "execution_count": 3,
     "metadata": {},
     "output_type": "execute_result"
    }
   ],
   "source": [
    "data.describe()"
   ]
  },
  {
   "cell_type": "code",
   "execution_count": 4,
   "metadata": {},
   "outputs": [
    {
     "data": {
      "text/plain": [
       "<AxesSubplot:>"
      ]
     },
     "execution_count": 4,
     "metadata": {},
     "output_type": "execute_result"
    },
    {
     "data": {
      "image/png": "[encoded data removed]",
      "text/plain": [
       "<Figure size 432x288 with 1 Axes>"
      ]
     },
     "metadata": {
      "needs_background": "light"
     },
     "output_type": "display_data"
    }
   ],
   "source": [
    "(data.scorer.value_counts() / len(data)).plot(kind='bar')"
   ]
  },
  {
   "cell_type": "code",
   "execution_count": 5,
   "metadata": {},
   "outputs": [
    {
     "data": {
      "text/plain": [
       "0.0    3170\n",
       "1.0    2234\n",
       "0.5     249\n",
       "Name: scorer, dtype: int64"
      ]
     },
     "execution_count": 5,
     "metadata": {},
     "output_type": "execute_result"
    }
   ],
   "source": [
    "id = data.id.unique()[8]\n",
    "data.loc[data.id==id, \"scorer\"].value_counts()\n"
   ]
  },
  {
   "cell_type": "code",
   "execution_count": 6,
   "metadata": {},
   "outputs": [],
   "source": [
    "onegame = data.loc[data.id==id]\n",
    "onepoint = onegame.loc[data.pt==3]"
   ]
  },
  {
   "cell_type": "markdown",
   "metadata": {},
   "source": [
    "Here's a fun way to examine this data. We can extract one point and animate the ball as it moves around the field."
   ]
  },
  {
   "cell_type": "code",
   "execution_count": 7,
   "metadata": {
    "scrolled": false
   },
   "outputs": [
    {
     "data": {
      "application/vnd.jupyter.widget-view+json": {
       "model_id": "3641ed0324cc40b39e9add99ddf6c7ba",
       "version_major": 2,
       "version_minor": 0
      },
      "text/plain": [
       "Canvas(toolbar=Toolbar(toolitems=[('Home', 'Reset original view', 'home', 'home'), ('Back', 'Back to previous …"
      ]
     },
     "metadata": {},
     "output_type": "display_data"
    }
   ],
   "source": [
    "x = onepoint.y.values\n",
    "y = onepoint.z.values\n",
    "color=['C0','C1'][int(onepoint.scorer.mode()[0])]\n",
    "interval=7\n",
    "tail = 20\n",
    "fig,ax = plt.subplots()\n",
    "WIDTH = 100\n",
    "HEIGHT = 600 / 5\n",
    "\n",
    "# ===============\n",
    "%matplotlib widget\n",
    "\n",
    "ln, = plt.plot([], [], 'o', c=color, alpha=0.8)\n",
    "\n",
    "def init():\n",
    "    ax.set_xlim(-WIDTH,WIDTH)\n",
    "    ax.set_ylim(-HEIGHT, HEIGHT)\n",
    "    return ln,\n",
    "\n",
    "def update(frame):\n",
    "    #print(frame)\n",
    "    ln.set_data(x[max(0,frame-tail):frame], y[max(0,frame-tail):frame])\n",
    "    return ln,\n",
    "\n",
    "ani = FuncAnimation(fig, update, frames=np.arange(len(x)),\n",
    "                    init_func=init, blit=True, interval=interval)\n",
    "plt.show()"
   ]
  },
  {
   "cell_type": "code",
   "execution_count": 24,
   "metadata": {},
   "outputs": [],
   "source": [
    "%matplotlib inline\n",
    "gb = data.groupby(['id', 'pt'])\n",
    "x_fn = lambda s: s.iloc[-1]\n",
    "#scorers = gb['scorer'].agg({'scorer':pd.Series.mode, 'ending_x': x_fn, 'ending_y': y_fn\n",
    "final_seconds = gb.agg({'scorer':pd.Series.mode, 'x':x_fn, 'y':x_fn})"
   ]
  },
  {
   "cell_type": "code",
   "execution_count": 25,
   "metadata": {
    "scrolled": false
   },
   "outputs": [
    {
     "data": {
      "image/png": "[encoded data removed]",
      "text/plain": [
       "<Figure size 432x288 with 1 Axes>"
      ]
     },
     "metadata": {
      "needs_background": "light"
     },
     "output_type": "display_data"
    }
   ],
   "source": [
    "plt.figure()\n",
    "color_fn = lambda scorer: f\"C{int(scorer)}\" if scorer % 1 == 0 else \"C4\"\n",
    "plt.scatter(final_seconds.x, final_seconds.y, s=5, c=final_seconds.scorer.map(color_fn))\n",
    "plt.show()"
   ]
  },
  {
   "cell_type": "code",
   "execution_count": 26,
   "metadata": {},
   "outputs": [
    {
     "name": "stdout",
     "output_type": "stream",
     "text": [
      "30.47%\n"
     ]
    }
   ],
   "source": [
    "#plt.figure()\n",
    "is_weird = (final_seconds.y.abs() < 5000)\n",
    "is_not_weird = (final_seconds.y.abs() > 5000)\n",
    "print(f\"{is_weird.mean():.2%}\")"
   ]
  },
  {
   "cell_type": "markdown",
   "metadata": {},
   "source": [
    "So we can reasonably affirm these relationships:\n",
    "\n",
    "| Team 0 | Team 1 |\n",
    "|--|--|\n",
    "| `+y` | `-y` |\n",
    "\n",
    "Jeez, turns out 30% of the data is just kinda weird. What's going on there?"
   ]
  },
  {
   "cell_type": "code",
   "execution_count": 27,
   "metadata": {},
   "outputs": [
    {
     "data": {
      "image/png": "[encoded data removed]",
      "text/plain": [
       "<Figure size 432x288 with 1 Axes>"
      ]
     },
     "metadata": {
      "needs_background": "light"
     },
     "output_type": "display_data"
    }
   ],
   "source": [
    "rangeof = lambda s: s.abs().max()*2\n",
    "is_long = gb.t.agg(max)\n",
    "ranges = gb.y.agg(rangeof)\n",
    "plt.hist(ranges)\n",
    "plt.show()"
   ]
  },
  {
   "cell_type": "code",
   "execution_count": 28,
   "metadata": {
    "scrolled": false
   },
   "outputs": [
    {
     "name": "stdout",
     "output_type": "stream",
     "text": [
      "Max of small-scale: 109.0\n"
     ]
    },
    {
     "data": {
      "image/png": "[encoded data removed]",
      "text/plain": [
       "<Figure size 432x288 with 1 Axes>"
      ]
     },
     "metadata": {
      "needs_background": "light"
     },
     "output_type": "display_data"
    }
   ],
   "source": [
    "small_ranges = ranges.loc[ranges<110]\n",
    "plt.plot(sorted(small_ranges), np.arange(len(small_ranges)))\n",
    "print(\"Max of small-scale:\", max(small_ranges))"
   ]
  },
  {
   "cell_type": "code",
   "execution_count": 13,
   "metadata": {},
   "outputs": [
    {
     "data": {
      "image/png": "[encoded data removed]",
      "text/plain": [
       "<Figure size 432x288 with 1 Axes>"
      ]
     },
     "metadata": {
      "needs_background": "light"
     },
     "output_type": "display_data"
    },
    {
     "name": "stdout",
     "output_type": "stream",
     "text": [
      "Max of large-scale: 11989.4\n"
     ]
    }
   ],
   "source": [
    "large_ranges = ranges.loc[ranges>110]\n",
    "plt.plot(sorted(large_ranges), np.arange(len(large_ranges)))\n",
    "plt.show()\n",
    "print(\"Max of large-scale:\", max(large_ranges))"
   ]
  },
  {
   "cell_type": "markdown",
   "metadata": {},
   "source": [
    "I wonder if the scale of the replay files changed at some date."
   ]
  },
  {
   "cell_type": "code",
   "execution_count": 14,
   "metadata": {},
   "outputs": [
    {
     "data": {
      "image/png": "[encoded data removed]",
      "text/plain": [
       "<Figure size 432x288 with 1 Axes>"
      ]
     },
     "metadata": {
      "needs_background": "light"
     },
     "output_type": "display_data"
    }
   ],
   "source": [
    "plt.scatter(gb.month.agg('mean'), ranges)\n",
    "plt.yscale('log')"
   ]
  },
  {
   "cell_type": "code",
   "execution_count": 15,
   "metadata": {},
   "outputs": [
    {
     "data": {
      "image/png": "[encoded data removed]",
      "text/plain": [
       "<Figure size 432x288 with 1 Axes>"
      ]
     },
     "metadata": {
      "needs_background": "light"
     },
     "output_type": "display_data"
    }
   ],
   "source": [
    "lengths = gb.agg(len)['f']\n",
    "plt.hist(lengths.loc[lengths<2000])\n",
    "plt.show()\n"
   ]
  },
  {
   "cell_type": "markdown",
   "metadata": {},
   "source": [
    "I guess something weird happened in June. We can drop all those entries though."
   ]
  },
  {
   "cell_type": "code",
   "execution_count": 16,
   "metadata": {},
   "outputs": [
    {
     "data": {
      "text/html": [
       "<div>\n",
       "<style scoped>\n",
       "    .dataframe tbody tr th:only-of-type {\n",
       "        vertical-align: middle;\n",
       "    }\n",
       "\n",
       "    .dataframe tbody tr th {\n",
       "        vertical-align: top;\n",
       "    }\n",
       "\n",
       "    .dataframe thead th {\n",
       "        text-align: right;\n",
       "    }\n",
       "</style>\n",
       "<table border=\"1\" class=\"dataframe\">\n",
       "  <thead>\n",
       "    <tr style=\"text-align: right;\">\n",
       "      <th></th>\n",
       "      <th>f</th>\n",
       "      <th>ix</th>\n",
       "      <th>t</th>\n",
       "      <th>x</th>\n",
       "      <th>y</th>\n",
       "      <th>z</th>\n",
       "      <th>dx</th>\n",
       "      <th>dy</th>\n",
       "      <th>dz</th>\n",
       "      <th>scorer</th>\n",
       "      <th>pt</th>\n",
       "      <th>month</th>\n",
       "      <th>id</th>\n",
       "    </tr>\n",
       "  </thead>\n",
       "  <tbody>\n",
       "    <tr>\n",
       "      <th>0</th>\n",
       "      <td>0</td>\n",
       "      <td>0</td>\n",
       "      <td>12.733936</td>\n",
       "      <td>0.00</td>\n",
       "      <td>0.00</td>\n",
       "      <td>92.87</td>\n",
       "      <td>0.00</td>\n",
       "      <td>0.00</td>\n",
       "      <td>0.00</td>\n",
       "      <td>1.0</td>\n",
       "      <td>0</td>\n",
       "      <td>2</td>\n",
       "      <td>02BC803B4481747BDB6B6FA3452F2796</td>\n",
       "    </tr>\n",
       "    <tr>\n",
       "      <th>1</th>\n",
       "      <td>127</td>\n",
       "      <td>0</td>\n",
       "      <td>18.879103</td>\n",
       "      <td>22.88</td>\n",
       "      <td>-38.32</td>\n",
       "      <td>94.99</td>\n",
       "      <td>1512.35</td>\n",
       "      <td>-2715.01</td>\n",
       "      <td>220.28</td>\n",
       "      <td>1.0</td>\n",
       "      <td>0</td>\n",
       "      <td>2</td>\n",
       "      <td>02BC803B4481747BDB6B6FA3452F2796</td>\n",
       "    </tr>\n",
       "    <tr>\n",
       "      <th>2</th>\n",
       "      <td>128</td>\n",
       "      <td>0</td>\n",
       "      <td>18.927488</td>\n",
       "      <td>98.43</td>\n",
       "      <td>-173.95</td>\n",
       "      <td>105.04</td>\n",
       "      <td>1510.01</td>\n",
       "      <td>-2710.87</td>\n",
       "      <td>187.44</td>\n",
       "      <td>1.0</td>\n",
       "      <td>0</td>\n",
       "      <td>2</td>\n",
       "      <td>02BC803B4481747BDB6B6FA3452F2796</td>\n",
       "    </tr>\n",
       "    <tr>\n",
       "      <th>3</th>\n",
       "      <td>129</td>\n",
       "      <td>0</td>\n",
       "      <td>18.975874</td>\n",
       "      <td>148.73</td>\n",
       "      <td>-264.25</td>\n",
       "      <td>110.84</td>\n",
       "      <td>1508.45</td>\n",
       "      <td>-2708.11</td>\n",
       "      <td>165.57</td>\n",
       "      <td>1.0</td>\n",
       "      <td>0</td>\n",
       "      <td>2</td>\n",
       "      <td>02BC803B4481747BDB6B6FA3452F2796</td>\n",
       "    </tr>\n",
       "    <tr>\n",
       "      <th>4</th>\n",
       "      <td>130</td>\n",
       "      <td>0</td>\n",
       "      <td>19.024260</td>\n",
       "      <td>249.17</td>\n",
       "      <td>-444.58</td>\n",
       "      <td>120.24</td>\n",
       "      <td>1505.33</td>\n",
       "      <td>-2702.59</td>\n",
       "      <td>121.91</td>\n",
       "      <td>1.0</td>\n",
       "      <td>0</td>\n",
       "      <td>2</td>\n",
       "      <td>02BC803B4481747BDB6B6FA3452F2796</td>\n",
       "    </tr>\n",
       "    <tr>\n",
       "      <th>...</th>\n",
       "      <td>...</td>\n",
       "      <td>...</td>\n",
       "      <td>...</td>\n",
       "      <td>...</td>\n",
       "      <td>...</td>\n",
       "      <td>...</td>\n",
       "      <td>...</td>\n",
       "      <td>...</td>\n",
       "      <td>...</td>\n",
       "      <td>...</td>\n",
       "      <td>...</td>\n",
       "      <td>...</td>\n",
       "      <td>...</td>\n",
       "    </tr>\n",
       "    <tr>\n",
       "      <th>334673</th>\n",
       "      <td>12057</td>\n",
       "      <td>58</td>\n",
       "      <td>502.687100</td>\n",
       "      <td>-3841.10</td>\n",
       "      <td>-2414.95</td>\n",
       "      <td>109.46</td>\n",
       "      <td>173.93</td>\n",
       "      <td>594.30</td>\n",
       "      <td>-87.03</td>\n",
       "      <td>0.5</td>\n",
       "      <td>10</td>\n",
       "      <td>2</td>\n",
       "      <td>6888472A40C49AEA06D91BA24A4FEA34</td>\n",
       "    </tr>\n",
       "    <tr>\n",
       "      <th>334674</th>\n",
       "      <td>12058</td>\n",
       "      <td>58</td>\n",
       "      <td>502.720370</td>\n",
       "      <td>-3838.20</td>\n",
       "      <td>-2405.05</td>\n",
       "      <td>107.87</td>\n",
       "      <td>173.83</td>\n",
       "      <td>594.00</td>\n",
       "      <td>-97.81</td>\n",
       "      <td>0.5</td>\n",
       "      <td>10</td>\n",
       "      <td>2</td>\n",
       "      <td>6888472A40C49AEA06D91BA24A4FEA34</td>\n",
       "    </tr>\n",
       "    <tr>\n",
       "      <th>334675</th>\n",
       "      <td>12059</td>\n",
       "      <td>58</td>\n",
       "      <td>502.753630</td>\n",
       "      <td>-3829.50</td>\n",
       "      <td>-2375.37</td>\n",
       "      <td>102.05</td>\n",
       "      <td>173.53</td>\n",
       "      <td>593.10</td>\n",
       "      <td>-130.12</td>\n",
       "      <td>0.5</td>\n",
       "      <td>10</td>\n",
       "      <td>2</td>\n",
       "      <td>6888472A40C49AEA06D91BA24A4FEA34</td>\n",
       "    </tr>\n",
       "    <tr>\n",
       "      <th>334676</th>\n",
       "      <td>12060</td>\n",
       "      <td>58</td>\n",
       "      <td>502.786900</td>\n",
       "      <td>-3823.71</td>\n",
       "      <td>-2355.61</td>\n",
       "      <td>97.27</td>\n",
       "      <td>173.33</td>\n",
       "      <td>592.50</td>\n",
       "      <td>-151.64</td>\n",
       "      <td>0.5</td>\n",
       "      <td>10</td>\n",
       "      <td>2</td>\n",
       "      <td>6888472A40C49AEA06D91BA24A4FEA34</td>\n",
       "    </tr>\n",
       "    <tr>\n",
       "      <th>334677</th>\n",
       "      <td>12061</td>\n",
       "      <td>58</td>\n",
       "      <td>502.820160</td>\n",
       "      <td>-3817.95</td>\n",
       "      <td>-2335.87</td>\n",
       "      <td>91.77</td>\n",
       "      <td>173.13</td>\n",
       "      <td>591.90</td>\n",
       "      <td>-173.12</td>\n",
       "      <td>0.5</td>\n",
       "      <td>10</td>\n",
       "      <td>2</td>\n",
       "      <td>6888472A40C49AEA06D91BA24A4FEA34</td>\n",
       "    </tr>\n",
       "  </tbody>\n",
       "</table>\n",
       "<p>294783 rows × 13 columns</p>\n",
       "</div>"
      ],
      "text/plain": [
       "            f  ix           t        x        y       z       dx       dy  \\\n",
       "0           0   0   12.733936     0.00     0.00   92.87     0.00     0.00   \n",
       "1         127   0   18.879103    22.88   -38.32   94.99  1512.35 -2715.01   \n",
       "2         128   0   18.927488    98.43  -173.95  105.04  1510.01 -2710.87   \n",
       "3         129   0   18.975874   148.73  -264.25  110.84  1508.45 -2708.11   \n",
       "4         130   0   19.024260   249.17  -444.58  120.24  1505.33 -2702.59   \n",
       "...       ...  ..         ...      ...      ...     ...      ...      ...   \n",
       "334673  12057  58  502.687100 -3841.10 -2414.95  109.46   173.93   594.30   \n",
       "334674  12058  58  502.720370 -3838.20 -2405.05  107.87   173.83   594.00   \n",
       "334675  12059  58  502.753630 -3829.50 -2375.37  102.05   173.53   593.10   \n",
       "334676  12060  58  502.786900 -3823.71 -2355.61   97.27   173.33   592.50   \n",
       "334677  12061  58  502.820160 -3817.95 -2335.87   91.77   173.13   591.90   \n",
       "\n",
       "            dz  scorer  pt  month                                id  \n",
       "0         0.00     1.0   0      2  02BC803B4481747BDB6B6FA3452F2796  \n",
       "1       220.28     1.0   0      2  02BC803B4481747BDB6B6FA3452F2796  \n",
       "2       187.44     1.0   0      2  02BC803B4481747BDB6B6FA3452F2796  \n",
       "3       165.57     1.0   0      2  02BC803B4481747BDB6B6FA3452F2796  \n",
       "4       121.91     1.0   0      2  02BC803B4481747BDB6B6FA3452F2796  \n",
       "...        ...     ...  ..    ...                               ...  \n",
       "334673  -87.03     0.5  10      2  6888472A40C49AEA06D91BA24A4FEA34  \n",
       "334674  -97.81     0.5  10      2  6888472A40C49AEA06D91BA24A4FEA34  \n",
       "334675 -130.12     0.5  10      2  6888472A40C49AEA06D91BA24A4FEA34  \n",
       "334676 -151.64     0.5  10      2  6888472A40C49AEA06D91BA24A4FEA34  \n",
       "334677 -173.12     0.5  10      2  6888472A40C49AEA06D91BA24A4FEA34  \n",
       "\n",
       "[294783 rows x 13 columns]"
      ]
     },
     "execution_count": 16,
     "metadata": {},
     "output_type": "execute_result"
    }
   ],
   "source": [
    "dataf = data.loc[data.month != 6]\n",
    "dataf"
   ]
  },
  {
   "cell_type": "markdown",
   "metadata": {},
   "source": [
    "We assign the replays to test and train by IDs, so that we don't have data from the same replay in both the training and testing sets."
   ]
  },
  {
   "cell_type": "code",
   "execution_count": 17,
   "metadata": {},
   "outputs": [],
   "source": [
    "train_ids, test_ids = train_test_split(dataf.id.unique())\n",
    "\n",
    "features = ['t', 'x', 'y', 'z']#, 'dx', 'dy', 'dz']\n",
    "\n",
    "X_train = dataf.loc[data.id.isin(train_ids), features]\n",
    "y_train = dataf.loc[data.id.isin(train_ids), 'scorer']\n",
    "X_test = dataf.loc[data.id.isin(test_ids), features]\n",
    "y_test = dataf.loc[data.id.isin(test_ids), 'scorer']\n",
    "#X_train, X_test, y_train, y_test = train_test_split(X, gb['scorer'])"
   ]
  },
  {
   "cell_type": "code",
   "execution_count": 18,
   "metadata": {},
   "outputs": [
    {
     "data": {
      "text/plain": [
       "<AxesSubplot:>"
      ]
     },
     "execution_count": 18,
     "metadata": {},
     "output_type": "execute_result"
    },
    {
     "data": {
      "image/png": "[encoded data removed]",
      "text/plain": [
       "<Figure size 432x288 with 1 Axes>"
      ]
     },
     "metadata": {
      "needs_background": "light"
     },
     "output_type": "display_data"
    }
   ],
   "source": [
    "# Check for bias in training data\n",
    "plt.figure()\n",
    "y_train.value_counts().plot(kind='bar')"
   ]
  },
  {
   "cell_type": "markdown",
   "metadata": {},
   "source": [
    "First we'll see how effective a simple logistic regression can be."
   ]
  },
  {
   "cell_type": "code",
   "execution_count": 19,
   "metadata": {},
   "outputs": [
    {
     "name": "stderr",
     "output_type": "stream",
     "text": [
      "/home/sam/miniconda3/envs/datasci/lib/python3.9/site-packages/sklearn/linear_model/_logistic.py:814: ConvergenceWarning: lbfgs failed to converge (status=1):\n",
      "STOP: TOTAL NO. of ITERATIONS REACHED LIMIT.\n",
      "\n",
      "Increase the number of iterations (max_iter) or scale the data as shown in:\n",
      "    https://scikit-learn.org/stable/modules/preprocessing.html\n",
      "Please also refer to the documentation for alternative solver options:\n",
      "    https://scikit-learn.org/stable/modules/linear_model.html#logistic-regression\n",
      "  n_iter_i = _check_optimize_result(\n"
     ]
    },
    {
     "data": {
      "text/plain": [
       "LogisticRegression(multi_class='multinomial')"
      ]
     },
     "execution_count": 19,
     "metadata": {},
     "output_type": "execute_result"
    }
   ],
   "source": [
    "reclass = {0:0,1:1,0.5:3,3:3}\n",
    "y_train = y_train.map(reclass)\n",
    "y_test = y_test.map(reclass)\n",
    "model = LogisticRegression(multi_class='multinomial')\n",
    "model.fit(X_train, y_train)"
   ]
  },
  {
   "cell_type": "code",
   "execution_count": 20,
   "metadata": {},
   "outputs": [],
   "source": [
    "y_pred = model.predict(X_test)"
   ]
  },
  {
   "cell_type": "code",
   "execution_count": 21,
   "metadata": {},
   "outputs": [
    {
     "data": {
      "text/plain": [
       "0.4588700679582108"
      ]
     },
     "execution_count": 21,
     "metadata": {},
     "output_type": "execute_result"
    }
   ],
   "source": [
    "(y_pred == y_test).mean()"
   ]
  },
  {
   "cell_type": "code",
   "execution_count": 22,
   "metadata": {},
   "outputs": [
    {
     "data": {
      "text/plain": [
       "1    0.576466\n",
       "0    0.330130\n",
       "3    0.093405\n",
       "Name: scorer, dtype: float64"
      ]
     },
     "execution_count": 22,
     "metadata": {},
     "output_type": "execute_result"
    }
   ],
   "source": [
    "y_test.value_counts() / len(y_test)"
   ]
  },
  {
   "cell_type": "code",
   "execution_count": null,
   "metadata": {},
   "outputs": [],
   "source": []
  },
  {
   "cell_type": "code",
   "execution_count": 23,
   "metadata": {},
   "outputs": [
    {
     "data": {
      "text/plain": [
       "<sklearn.metrics._plot.confusion_matrix.ConfusionMatrixDisplay at 0x7f63b20882b0>"
      ]
     },
     "execution_count": 23,
     "metadata": {},
     "output_type": "execute_result"
    },
    {
     "data": {
      "image/png": "[encoded data removed]",
      "text/plain": [
       "<Figure size 432x288 with 2 Axes>"
      ]
     },
     "metadata": {
      "needs_background": "light"
     },
     "output_type": "display_data"
    }
   ],
   "source": [
    "ConfusionMatrixDisplay(confusion_matrix(y_test, y_pred)/len(y_test)).plot()"
   ]
  },
  {
   "cell_type": "code",
   "execution_count": null,
   "metadata": {},
   "outputs": [],
   "source": []
  }
 ],
 "metadata": {
  "interpreter": {
   "hash": "521ed9718791aa744438ee5ab9e34ef25ad18ccaf4ce95228248f3b46371c374"
  },
  "kernelspec": {
   "display_name": "Python 3 (ipykernel)",
   "language": "python",
   "name": "python3"
  },
  "language_info": {
   "codemirror_mode": {
    "name": "ipython",
    "version": 3
   },
   "file_extension": ".py",
   "mimetype": "text/x-python",
   "name": "python",
   "nbconvert_exporter": "python",
   "pygments_lexer": "ipython3",
   "version": "3.9.7"
  }
 },
 "nbformat": 4,
 "nbformat_minor": 2
}
